{
 "cells": [
  {
   "cell_type": "markdown",
   "metadata": {},
   "source": [
    "# Exercise 4: Optimizing Redshift Table Design"
   ]
  },
  {
   "cell_type": "code",
   "execution_count": null,
   "metadata": {},
   "outputs": [],
   "source": [
    "%load_ext sql"
   ]
  },
  {
   "cell_type": "code",
   "execution_count": null,
   "metadata": {},
   "outputs": [],
   "source": [
    "from time import time\n",
    "import configparser\n",
    "import matplotlib.pyplot as plt\n",
    "import pandas as pd"
   ]
  },
  {
   "cell_type": "code",
   "execution_count": null,
   "metadata": {},
   "outputs": [],
   "source": [
    "config = configparser.ConfigParser()\n",
    "config.read_file(open('dwh.cfg'))\n",
    "KEY=config.get('AWS','key')\n",
    "SECRET= config.get('AWS','secret')\n",
    "\n",
    "DWH_DB= config.get(\"DWH\",\"DWH_DB\")\n",
    "DWH_DB_USER= config.get(\"DWH\",\"DWH_DB_USER\")\n",
    "DWH_DB_PASSWORD= config.get(\"DWH\",\"DWH_DB_PASSWORD\")\n",
    "DWH_PORT = config.get(\"DWH\",\"DWH_PORT\")\n",
    "DWH_ENDPOINT = config.get(\"DWH\", \"DWH_ENDPOINT\")\n",
    "DWH_ROLE_ARN = config.get(\"DWH\", \"DWH_ROLE_ARN\")"
   ]
  },
  {
   "cell_type": "markdown",
   "metadata": {},
   "source": [
    "# STEP 1: Connect to the Redshift Cluster"
   ]
  },
  {
   "cell_type": "code",
   "execution_count": null,
   "metadata": {},
   "outputs": [],
   "source": [
    "import os \n",
    "conn_string=\"postgresql://{}:{}@{}:{}/{}\".format(DWH_DB_USER, DWH_DB_PASSWORD, DWH_ENDPOINT, DWH_PORT,DWH_DB)\n",
    "\n",
    "%sql $conn_string"
   ]
  },
  {
   "cell_type": "markdown",
   "metadata": {},
   "source": [
    "# STEP 2: Create Tables"
   ]
  },
  {
   "cell_type": "markdown",
   "metadata": {},
   "source": [
    "- We are going to use a benchmarking data set common for benchmarking star schemas in data warehouses.\n",
    "- The data is pre-loaded in a public bucket on the us-west-2 region\n",
    "- Our examples will be based on the Amazon Redshfit tutorial but in a scripted environment in our workspace."
   ]
  },
  {
   "cell_type": "markdown",
   "metadata": {},
   "source": [
    "## 2.1 Create tables (no distribution strategy) in the nodist schema"
   ]
  },
  {
   "cell_type": "code",
   "execution_count": null,
   "metadata": {},
   "outputs": [],
   "source": [
    "%%sql \n",
    "CREATE SCHEMA IF NOT EXISTS nodist;\n",
    "SET search_path TO nodist;\n",
    "\n",
    "DROP TABLE IF EXISTS part cascade;\n",
    "DROP TABLE IF EXISTS supplier;\n",
    "DROP TABLE IF EXISTS supplier;\n",
    "DROP TABLE IF EXISTS customer;\n",
    "DROP TABLE IF EXISTS dwdate;\n",
    "DROP TABLE IF EXISTS lineorder;\n",
    "\n",
    "CREATE TABLE part \n",
    "(\n",
    "  p_partkey     INTEGER NOT NULL,\n",
    "  p_name        VARCHAR(22) NOT NULL,\n",
    "  p_mfgr        VARCHAR(6) NOT NULL,\n",
    "  p_category    VARCHAR(7) NOT NULL,\n",
    "  p_brand1      VARCHAR(9) NOT NULL,\n",
    "  p_color       VARCHAR(11) NOT NULL,\n",
    "  p_type        VARCHAR(25) NOT NULL,\n",
    "  p_size        INTEGER NOT NULL,\n",
    "  p_container   VARCHAR(10) NOT NULL\n",
    ");\n",
    "\n",
    "CREATE TABLE supplier \n",
    "(\n",
    "  s_suppkey   INTEGER NOT NULL,\n",
    "  s_name      VARCHAR(25) NOT NULL,\n",
    "  s_address   VARCHAR(25) NOT NULL,\n",
    "  s_city      VARCHAR(10) NOT NULL,\n",
    "  s_nation    VARCHAR(15) NOT NULL,\n",
    "  s_region    VARCHAR(12) NOT NULL,\n",
    "  s_phone     VARCHAR(15) NOT NULL\n",
    ");\n",
    "\n",
    "CREATE TABLE customer \n",
    "(\n",
    "  c_custkey      INTEGER NOT NULL,\n",
    "  c_name         VARCHAR(25) NOT NULL,\n",
    "  c_address      VARCHAR(25) NOT NULL,\n",
    "  c_city         VARCHAR(10) NOT NULL,\n",
    "  c_nation       VARCHAR(15) NOT NULL,\n",
    "  c_region       VARCHAR(12) NOT NULL,\n",
    "  c_phone        VARCHAR(15) NOT NULL,\n",
    "  c_mktsegment   VARCHAR(10) NOT NULL\n",
    ");\n",
    "\n",
    "CREATE TABLE dwdate \n",
    "(\n",
    "  d_datekey            INTEGER NOT NULL,\n",
    "  d_date               VARCHAR(19) NOT NULL,\n",
    "  d_dayofweek          VARCHAR(10) NOT NULL,\n",
    "  d_month              VARCHAR(10) NOT NULL,\n",
    "  d_year               INTEGER NOT NULL,\n",
    "  d_yearmonthnum       INTEGER NOT NULL,\n",
    "  d_yearmonth          VARCHAR(8) NOT NULL,\n",
    "  d_daynuminweek       INTEGER NOT NULL,\n",
    "  d_daynuminmonth      INTEGER NOT NULL,\n",
    "  d_daynuminyear       INTEGER NOT NULL,\n",
    "  d_monthnuminyear     INTEGER NOT NULL,\n",
    "  d_weeknuminyear      INTEGER NOT NULL,\n",
    "  d_sellingseason      VARCHAR(13) NOT NULL,\n",
    "  d_lastdayinweekfl    VARCHAR(1) NOT NULL,\n",
    "  d_lastdayinmonthfl   VARCHAR(1) NOT NULL,\n",
    "  d_holidayfl          VARCHAR(1) NOT NULL,\n",
    "  d_weekdayfl          VARCHAR(1) NOT NULL\n",
    ");\n",
    "CREATE TABLE lineorder \n",
    "(\n",
    "  lo_orderkey          INTEGER NOT NULL,\n",
    "  lo_linenumber        INTEGER NOT NULL,\n",
    "  lo_custkey           INTEGER NOT NULL,\n",
    "  lo_partkey           INTEGER NOT NULL,\n",
    "  lo_suppkey           INTEGER NOT NULL,\n",
    "  lo_orderdate         INTEGER NOT NULL,\n",
    "  lo_orderpriority     VARCHAR(15) NOT NULL,\n",
    "  lo_shippriority      VARCHAR(1) NOT NULL,\n",
    "  lo_quantity          INTEGER NOT NULL,\n",
    "  lo_extendedprice     INTEGER NOT NULL,\n",
    "  lo_ordertotalprice   INTEGER NOT NULL,\n",
    "  lo_discount          INTEGER NOT NULL,\n",
    "  lo_revenue           INTEGER NOT NULL,\n",
    "  lo_supplycost        INTEGER NOT NULL,\n",
    "  lo_tax               INTEGER NOT NULL,\n",
    "  lo_commitdate        INTEGER NOT NULL,\n",
    "  lo_shipmode          VARCHAR(10) NOT NULL\n",
    ");"
   ]
  },
  {
   "cell_type": "markdown",
   "metadata": {},
   "source": [
    "## 2.2 Create tables (with a distribution strategy) in the dist schema"
   ]
  },
  {
   "cell_type": "code",
   "execution_count": null,
   "metadata": {},
   "outputs": [],
   "source": [
    "%%sql\n",
    "CREATE SCHEMA IF NOT EXISTS dist;\n",
    "SET search_path TO dist;\n",
    "\n",
    "DROP TABLE IF EXISTS part cascade;\n",
    "DROP TABLE IF EXISTS supplier;\n",
    "DROP TABLE IF EXISTS supplier;\n",
    "DROP TABLE IF EXISTS customer;\n",
    "DROP TABLE IF EXISTS dwdate;\n",
    "DROP TABLE IF EXISTS lineorder;\n",
    "\n",
    "CREATE TABLE part (\n",
    "  p_partkey     integer     not null sortkey distkey,\n",
    "  p_name        varchar(22) not null,\n",
    "  p_mfgr        varchar(6)  not null,\n",
    "  p_category    varchar(7)  not null,\n",
    "  p_brand1      varchar(9)  not null,\n",
    "  p_color       varchar(11) not null,\n",
    "  p_type        varchar(25) not null,\n",
    "  p_size        integer     not null,\n",
    "  p_container   varchar(10) not null\n",
    ");\n",
    "\n",
    "CREATE TABLE supplier (\n",
    "  s_suppkey     integer        not null sortkey,\n",
    "  s_name        varchar(25)    not null,\n",
    "  s_address     varchar(25)    not null,\n",
    "  s_city        varchar(10)    not null,\n",
    "  s_nation      varchar(15)    not null,\n",
    "  s_region      varchar(12)    not null,\n",
    "  s_phone       varchar(15)    not null)\n",
    "diststyle all;\n",
    "\n",
    "CREATE TABLE customer (\n",
    "  c_custkey     integer        not null sortkey,\n",
    "  c_name        varchar(25)    not null,\n",
    "  c_address     varchar(25)    not null,\n",
    "  c_city        varchar(10)    not null,\n",
    "  c_nation      varchar(15)    not null,\n",
    "  c_region      varchar(12)    not null,\n",
    "  c_phone       varchar(15)    not null,\n",
    "  c_mktsegment  varchar(10)    not null)\n",
    "diststyle all;\n",
    "\n",
    "CREATE TABLE dwdate (\n",
    "  d_datekey            integer       not null sortkey,\n",
    "  d_date               varchar(19)   not null,\n",
    "  d_dayofweek          varchar(10)   not null,\n",
    "  d_month              varchar(10)   not null,\n",
    "  d_year               integer       not null,\n",
    "  d_yearmonthnum       integer       not null,\n",
    "  d_yearmonth          varchar(8)    not null,\n",
    "  d_daynuminweek       integer       not null,\n",
    "  d_daynuminmonth      integer       not null,\n",
    "  d_daynuminyear       integer       not null,\n",
    "  d_monthnuminyear     integer       not null,\n",
    "  d_weeknuminyear      integer       not null,\n",
    "  d_sellingseason      varchar(13)   not null,\n",
    "  d_lastdayinweekfl    varchar(1)    not null,\n",
    "  d_lastdayinmonthfl   varchar(1)    not null,\n",
    "  d_holidayfl          varchar(1)    not null,\n",
    "  d_weekdayfl          varchar(1)    not null)\n",
    "diststyle all;\n",
    "\n",
    "CREATE TABLE lineorder (\n",
    "  lo_orderkey          integer     not null,\n",
    "  lo_linenumber        integer     not null,\n",
    "  lo_custkey           integer     not null,\n",
    "  lo_partkey           integer     not null distkey,\n",
    "  lo_suppkey           integer     not null,\n",
    "  lo_orderdate         integer     not null sortkey,\n",
    "  lo_orderpriority     varchar(15) not null,\n",
    "  lo_shippriority      varchar(1)  not null,\n",
    "  lo_quantity          integer     not null,\n",
    "  lo_extendedprice     integer     not null,\n",
    "  lo_ordertotalprice   integer     not null,\n",
    "  lo_discount          integer     not null,\n",
    "  lo_revenue           integer     not null,\n",
    "  lo_supplycost        integer     not null,\n",
    "  lo_tax               integer     not null,\n",
    "  lo_commitdate        integer     not null,\n",
    "  lo_shipmode          varchar(10) not null\n",
    ");"
   ]
  },
  {
   "cell_type": "markdown",
   "metadata": {},
   "source": [
    "# STEP 3: Copying tables"
   ]
  },
  {
   "cell_type": "markdown",
   "metadata": {},
   "source": [
    "Our intent here is to run 5 COPY operations for the 5 tables respectively as show below.\n",
    "\n",
    "However, we want to do accomplish the following:\n",
    "\n",
    "- Make sure that the DWH_ROLE_ARN is substituted with the correct value in each query\n",
    "- Perform the data loading twice once for each schema (dist and nodist)\n",
    "- Collect timing statistics to compare the insertion times Thus, we have scripted the insertion as found below in the function loadTables which returns a pandas dataframe containing timing statistics for the copy operations"
   ]
  },
  {
   "cell_type": "markdown",
   "metadata": {},
   "source": [
    "```\n",
    "copy customer from 's3://awssampledbuswest2/ssbgz/customer' \n",
    "credentials 'aws_iam_role=<DWH_ROLE_ARN>'\n",
    "gzip region 'us-west-2';\n",
    "\n",
    "copy dwdate from 's3://awssampledbuswest2/ssbgz/dwdate' \n",
    "credentials 'aws_iam_role=<DWH_ROLE_ARN>'\n",
    "gzip region 'us-west-2';\n",
    "\n",
    "copy lineorder from 's3://awssampledbuswest2/ssbgz/lineorder' \n",
    "credentials 'aws_iam_role=<DWH_ROLE_ARN>'\n",
    "gzip region 'us-west-2';\n",
    "\n",
    "copy part from 's3://awssampledbuswest2/ssbgz/part' \n",
    "credentials 'aws_iam_role=<DWH_ROLE_ARN>'\n",
    "gzip region 'us-west-2';\n",
    "\n",
    "copy supplier from 's3://awssampledbuswest2/ssbgz/supplier' \n",
    "credentials 'aws_iam_role=<DWH_ROLE_ARN>'\n",
    "gzip region 'us-west-2';\n",
    "```"
   ]
  },
  {
   "cell_type": "code",
   "execution_count": null,
   "metadata": {},
   "outputs": [],
   "source": [
    "def load_tables(schema, tables):\n",
    "    load_times = []\n",
    "    SQL_SET_SCEMA = \"SET search_path TO {};\".format(schema)\n",
    "    %sql $SQL_SET_SCEMA\n",
    "    for table in tables:\n",
    "        SQL_COPY = \"\"\"\n",
    "copy {} from 's3://awssampledbuswest2/ssbgz/{}' \n",
    "credentials 'aws_iam_role={}'\n",
    "gzip region 'us-west-2';\n",
    "        \"\"\".format(table,table, DWH_ROLE_ARN)\n",
    "\n",
    "        print(\"======= LOADING TABLE: ** {} ** IN SCHEMA ==> {} =======\".format(table, schema))\n",
    "        t0 = time()\n",
    "        %sql $SQL_COPY\n",
    "        loadTime = time()-t0\n",
    "        load_times.append(loadTime)\n",
    "\n",
    "        print(\"=== DONE IN: {0:.2f} sec\\n\".format(loadTime))\n",
    "    return pd.DataFrame({\"table\":tables, \"loadtime_\"+schema:load_times}).set_index('table')"
   ]
  },
  {
   "cell_type": "code",
   "execution_count": null,
   "metadata": {},
   "outputs": [],
   "source": [
    "tables = [\"customer\",\"dwdate\",\"supplier\", \"part\", \"lineorder\"]\n",
    "nodistStats = load_tables(\"nodist\", tables)\n",
    "distStats = load_tables(\"dist\", tables)"
   ]
  },
  {
   "cell_type": "markdown",
   "metadata": {},
   "source": [
    "# 3.1 Compare load performance results"
   ]
  },
  {
   "cell_type": "code",
   "execution_count": null,
   "metadata": {},
   "outputs": [],
   "source": [
    "stats = distStats.join(nodistStats)\n",
    "stats.plot.bar()\n",
    "plt.show()"
   ]
  },
  {
   "cell_type": "markdown",
   "metadata": {},
   "source": [
    "# Step 5: Compare Query Performance"
   ]
  },
  {
   "cell_type": "code",
   "execution_count": null,
   "metadata": {},
   "outputs": [],
   "source": [
    "\n",
    "oneDim_SQL =\"\"\"\n",
    "set enable_result_cache_for_session to off;\n",
    "SET search_path TO {};\n",
    "\n",
    "select sum(lo_extendedprice*lo_discount) as revenue\n",
    "from lineorder, dwdate\n",
    "where lo_orderdate = d_datekey\n",
    "and d_year = 1997 \n",
    "and lo_discount between 1 and 3 \n",
    "and lo_quantity < 24;\n",
    "\"\"\"\n",
    "\n",
    "twoDim_SQL=\"\"\"\n",
    "set enable_result_cache_for_session to off;\n",
    "SET search_path TO {};\n",
    "\n",
    "select sum(lo_revenue), d_year, p_brand1\n",
    "from lineorder, dwdate, part, supplier\n",
    "where lo_orderdate = d_datekey\n",
    "and lo_partkey = p_partkey\n",
    "and lo_suppkey = s_suppkey\n",
    "and p_category = 'MFGR#12'\n",
    "and s_region = 'AMERICA'\n",
    "group by d_year, p_brand1\n",
    "\"\"\"\n",
    "\n",
    "drill_SQL = \"\"\"\n",
    "set enable_result_cache_for_session to off;\n",
    "SET search_path TO {};\n",
    "\n",
    "select c_city, s_city, d_year, sum(lo_revenue) as revenue \n",
    "from customer, lineorder, supplier, dwdate\n",
    "where lo_custkey = c_custkey\n",
    "and lo_suppkey = s_suppkey\n",
    "and lo_orderdate = d_datekey\n",
    "and (c_city='UNITED KI1' or\n",
    "c_city='UNITED KI5')\n",
    "and (s_city='UNITED KI1' or\n",
    "s_city='UNITED KI5')\n",
    "and d_yearmonth = 'Dec1997'\n",
    "group by c_city, s_city, d_year\n",
    "order by d_year asc, revenue desc;\n",
    "\"\"\"\n",
    "\n",
    "\n",
    "oneDimSameDist_SQL =\"\"\"\n",
    "set enable_result_cache_for_session to off;\n",
    "SET search_path TO {};\n",
    "\n",
    "select lo_orderdate, sum(lo_extendedprice*lo_discount) as revenue  \n",
    "from lineorder, part\n",
    "where lo_partkey  = p_partkey\n",
    "group by lo_orderdate\n",
    "order by lo_orderdate\n",
    "\"\"\"\n",
    "\n",
    "def compareQueryTimes(schema):\n",
    "    queryTimes  =[] \n",
    "    for i,query in enumerate([oneDim_SQL, twoDim_SQL, drill_SQL, oneDimSameDist_SQL]):\n",
    "        t0 = time()\n",
    "        q = query.format(schema)\n",
    "        %sql $q\n",
    "        queryTime = time()-t0\n",
    "        queryTimes.append(queryTime)\n",
    "    return pd.DataFrame({\"query\":[\"oneDim\",\"twoDim\", \"drill\", \"oneDimSameDist\"], \"queryTime_\"+schema:queryTimes}).set_index('query')"
   ]
  },
  {
   "cell_type": "code",
   "execution_count": null,
   "metadata": {},
   "outputs": [],
   "source": [
    "noDistQueryTimes = compareQueryTimes(\"nodist\")\n",
    "distQueryTimes   = compareQueryTimes(\"dist\")"
   ]
  },
  {
   "cell_type": "code",
   "execution_count": null,
   "metadata": {},
   "outputs": [],
   "source": [
    "queryTimeDF = noDistQueryTimes.join(distQueryTimes)\n",
    "queryTimeDF.plot.bar()\n",
    "plt.show()"
   ]
  },
  {
   "cell_type": "code",
   "execution_count": null,
   "metadata": {},
   "outputs": [],
   "source": []
  }
 ],
 "metadata": {
  "kernelspec": {
   "display_name": "Python 3",
   "language": "python",
   "name": "python3"
  },
  "language_info": {
   "codemirror_mode": {
    "name": "ipython",
    "version": 3
   },
   "file_extension": ".py",
   "mimetype": "text/x-python",
   "name": "python",
   "nbconvert_exporter": "python",
   "pygments_lexer": "ipython3",
   "version": "3.8.5"
  }
 },
 "nbformat": 4,
 "nbformat_minor": 4
}
